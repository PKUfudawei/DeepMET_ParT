{
 "cells": [
  {
   "cell_type": "code",
   "execution_count": 1,
   "id": "942b2d73",
   "metadata": {},
   "outputs": [],
   "source": [
    "import awkward as ak\n",
    "import torch.nn.functional as F\n",
    "import numpy as np\n",
    "import pandas as pd\n",
    "import torch, h5py\n",
    "\n",
    "from torch.utils.data import DataLoader\n",
    "from glob import glob\n",
    "#from coffea.nanoevents import NanoEventsFactory, NanoAODSchema\n",
    "from models.particle_transformer import ParticleTransformer\n",
    "from utils.data import Dataset, cycle\n",
    "from train import load_model"
   ]
  },
  {
   "cell_type": "code",
   "execution_count": 7,
   "id": "1c33ca1d",
   "metadata": {},
   "outputs": [
    {
     "name": "stdout",
     "output_type": "stream",
     "text": [
      "/data/fudawei/GenMET/data/test/DYJetsToMuMu_H2ErratumFix_TuneCP5_13TeV-powhegMiNNLO-pythia8-photos/NanoV9MCPostVFP_10.hdf5 797.56714 -584.9505\n",
      "/data/fudawei/GenMET/data/test/DYJetsToMuMu_H2ErratumFix_TuneCP5_13TeV-powhegMiNNLO-pythia8-photos/NanoV9MCPostVFP_50.hdf5 484.51978 -372.34348\n",
      "/data/fudawei/GenMET/data/test/TTTo2L2Nu_TuneCP5_13TeV-powheg-pythia8/NanoV9MCPostVFP_10.hdf5 661.8976 -512.77704\n",
      "/data/fudawei/GenMET/data/test/TTTo2L2Nu_TuneCP5_13TeV-powheg-pythia8/NanoV9MCPostVFP_100.hdf5 936.4389 -772.3514\n",
      "/data/fudawei/GenMET/data/test/TTTo2L2Nu_TuneCP5_13TeV-powheg-pythia8/NanoV9MCPostVFP_50.hdf5 789.9437 -855.6592\n",
      "/data/fudawei/GenMET/data/test/TTTo2L2Nu_TuneCP5_13TeV-powheg-pythia8/NanoV9MCPostVFP_20.hdf5 745.2827 -693.31726\n"
     ]
    }
   ],
   "source": [
    "for f in glob('/data/fudawei/GenMET/data/test/*/*.hdf5'):\n",
    "    with h5py.File(f, 'r') as file:\n",
    "        arr = file['event_truths'][:]\n",
    "        print(f, np.max(arr), np.min(arr))\n",
    "    "
   ]
  },
  {
   "cell_type": "code",
   "execution_count": null,
   "id": "15c3d191",
   "metadata": {},
   "outputs": [],
   "source": []
  },
  {
   "cell_type": "code",
   "execution_count": 2,
   "id": "4113ba44",
   "metadata": {},
   "outputs": [
    {
     "ename": "TypeError",
     "evalue": "a bytes-like object is required, not 'str'",
     "output_type": "error",
     "traceback": [
      "\u001b[0;31m---------------------------------------------------------------------------\u001b[0m",
      "\u001b[0;31mTypeError\u001b[0m                                 Traceback (most recent call last)",
      "Cell \u001b[0;32mIn[2], line 1\u001b[0m\n\u001b[0;32m----> 1\u001b[0m dataset \u001b[38;5;241m=\u001b[39m \u001b[43mDataset\u001b[49m\u001b[43m(\u001b[49m\u001b[43mglob\u001b[49m\u001b[43m(\u001b[49m\u001b[38;5;124;43m'\u001b[39;49m\u001b[38;5;124;43m/data/fudawei/GenMET/data/train/TTTo2L2Nu_TuneCP5_13TeV-powheg-pythia8/*\u001b[39;49m\u001b[38;5;124;43m'\u001b[39;49m\u001b[43m)\u001b[49m\u001b[43m,\u001b[49m\u001b[43m \u001b[49m\u001b[43mmax_PF_num\u001b[49m\u001b[38;5;241;43m=\u001b[39;49m\u001b[38;5;241;43m1000\u001b[39;49m\u001b[43m)\u001b[49m\n\u001b[1;32m      2\u001b[0m dataloader \u001b[38;5;241m=\u001b[39m DataLoader(dataset\u001b[38;5;241m=\u001b[39mdataset, batch_size\u001b[38;5;241m=\u001b[39m\u001b[38;5;241m128\u001b[39m, shuffle\u001b[38;5;241m=\u001b[39m\u001b[38;5;28;01mTrue\u001b[39;00m, drop_last\u001b[38;5;241m=\u001b[39m\u001b[38;5;28;01mFalse\u001b[39;00m)\n",
      "File \u001b[0;32m/data/fudawei/GenMET/utils/data.py:24\u001b[0m, in \u001b[0;36mDataset.__init__\u001b[0;34m(self, files, max_PF_num, dtype)\u001b[0m\n\u001b[1;32m     22\u001b[0m \u001b[38;5;66;03m# lazy loading\u001b[39;00m\n\u001b[1;32m     23\u001b[0m \u001b[38;5;28mself\u001b[39m\u001b[38;5;241m.\u001b[39mlazy_files \u001b[38;5;241m=\u001b[39m [h5py\u001b[38;5;241m.\u001b[39mFile(f, \u001b[38;5;124m'\u001b[39m\u001b[38;5;124mr\u001b[39m\u001b[38;5;124m'\u001b[39m) \u001b[38;5;28;01mfor\u001b[39;00m f \u001b[38;5;129;01min\u001b[39;00m \u001b[38;5;28mself\u001b[39m\u001b[38;5;241m.\u001b[39mfiles]\n\u001b[0;32m---> 24\u001b[0m \u001b[38;5;28mself\u001b[39m\u001b[38;5;241m.\u001b[39mfeatures \u001b[38;5;241m=\u001b[39m \u001b[38;5;28;43mself\u001b[39;49m\u001b[38;5;241;43m.\u001b[39;49m\u001b[43mlazy_files\u001b[49m\u001b[43m[\u001b[49m\u001b[38;5;241;43m0\u001b[39;49m\u001b[43m]\u001b[49m\u001b[38;5;241;43m.\u001b[39;49m\u001b[43mattrs\u001b[49m\u001b[43m[\u001b[49m\u001b[38;5;124;43m'\u001b[39;49m\u001b[38;5;124;43mPF_features\u001b[39;49m\u001b[38;5;124;43m'\u001b[39;49m\u001b[43m]\u001b[49m\u001b[38;5;241;43m.\u001b[39;49m\u001b[43msplit\u001b[49m\u001b[43m(\u001b[49m\u001b[38;5;124;43m'\u001b[39;49m\u001b[38;5;124;43m,\u001b[39;49m\u001b[38;5;124;43m'\u001b[39;49m\u001b[43m)\u001b[49m\n\u001b[1;32m     25\u001b[0m \u001b[38;5;28mself\u001b[39m\u001b[38;5;241m.\u001b[39mtruths \u001b[38;5;241m=\u001b[39m \u001b[38;5;28mself\u001b[39m\u001b[38;5;241m.\u001b[39mlazy_files[\u001b[38;5;241m0\u001b[39m]\u001b[38;5;241m.\u001b[39mattrs[\u001b[38;5;124m'\u001b[39m\u001b[38;5;124mevent_truths\u001b[39m\u001b[38;5;124m'\u001b[39m]\u001b[38;5;241m.\u001b[39msplit(\u001b[38;5;124m'\u001b[39m\u001b[38;5;124m,\u001b[39m\u001b[38;5;124m'\u001b[39m)\n\u001b[1;32m     27\u001b[0m \u001b[38;5;28mself\u001b[39m\u001b[38;5;241m.\u001b[39mfile_sizes \u001b[38;5;241m=\u001b[39m [f\u001b[38;5;241m.\u001b[39mattrs[\u001b[38;5;124m'\u001b[39m\u001b[38;5;124mn_events\u001b[39m\u001b[38;5;124m'\u001b[39m] \u001b[38;5;28;01mfor\u001b[39;00m f \u001b[38;5;129;01min\u001b[39;00m \u001b[38;5;28mself\u001b[39m\u001b[38;5;241m.\u001b[39mlazy_files]\n",
      "\u001b[0;31mTypeError\u001b[0m: a bytes-like object is required, not 'str'"
     ]
    }
   ],
   "source": [
    "dataset = Dataset(glob('/data/fudawei/GenMET/data/train/TTTo2L2Nu_TuneCP5_13TeV-powheg-pythia8/*'), max_PF_num=1000)\n",
    "dataloader = DataLoader(dataset=dataset, batch_size=128, shuffle=True, drop_last=False)\n"
   ]
  },
  {
   "cell_type": "code",
   "execution_count": 20,
   "id": "875e2a4e",
   "metadata": {},
   "outputs": [
    {
     "data": {
      "text/plain": [
       "92000"
      ]
     },
     "execution_count": 20,
     "metadata": {},
     "output_type": "execute_result"
    }
   ],
   "source": [
    "lazy_files=[h5py.File(f, 'r') for f in glob('/data/fudawei/GenMET/data/train/TTTo2L2Nu_TuneCP5_13TeV-powheg-pythia8/*')]\n",
    "lazy_files[0].attrs['n_events']"
   ]
  },
  {
   "cell_type": "code",
   "execution_count": 7,
   "id": "9e3d7a82",
   "metadata": {},
   "outputs": [],
   "source": [
    "import matplotlib.pyplot as plt"
   ]
  },
  {
   "cell_type": "code",
   "execution_count": 26,
   "id": "6bba5b12",
   "metadata": {},
   "outputs": [
    {
     "data": {
      "text/plain": [
       "(array([34., 13.,  5.,  1.,  2.,  2.,  0.,  0.,  1.,  0.]),\n",
       " array([ 1000.,  1900.,  2800.,  3700.,  4600.,  5500.,  6400.,  7300.,\n",
       "         8200.,  9100., 10000.]),\n",
       " <BarContainer object of 10 artists>)"
      ]
     },
     "execution_count": 26,
     "metadata": {},
     "output_type": "execute_result"
    },
    {
     "data": {
      "image/png": "[encoded data removed]",
      "text/plain": [
       "<Figure size 640x480 with 1 Axes>"
      ]
     },
     "metadata": {},
     "output_type": "display_data"
    }
   ],
   "source": [
    "plt.hist(torch.abs(dataset.targets[torch.any(torch.abs(dataset.targets)>1e3, dim=-1)]).flatten(), range=(1e3, 1e4))"
   ]
  },
  {
   "cell_type": "code",
   "execution_count": null,
   "id": "b05f7c8c",
   "metadata": {},
   "outputs": [
    {
     "data": {
      "text/plain": [
       "tensor([[[ 0.8989,  0.5293,  0.5747,  ...,  0.0000,  0.0000,  0.0000],\n",
       "         [ 0.9326,  2.3228,  1.7344,  ...,  0.0000,  0.0000,  0.0000],\n",
       "         [ 1.1038, -0.2361,  0.1974,  ...,  0.0000,  0.0000,  0.0000],\n",
       "         ...,\n",
       "         [ 0.5020,  1.0000,  1.0000,  ...,  0.0000,  0.0000,  0.0000],\n",
       "         [ 0.4047,  0.5146,  0.5636,  ...,  0.0000,  0.0000,  0.0000],\n",
       "         [ 0.8027, -0.1238,  0.1127,  ...,  0.0000,  0.0000,  0.0000]],\n",
       "\n",
       "        [[ 0.7559,  0.5342,  0.5889,  ...,  0.0000,  0.0000,  0.0000],\n",
       "         [ 1.6746,  1.5474,  1.4187,  ...,  0.0000,  0.0000,  0.0000],\n",
       "         [ 2.7012,  3.0991,  0.1033,  ...,  0.0000,  0.0000,  0.0000],\n",
       "         ...,\n",
       "         [ 0.9961,  1.0000,  1.0000,  ...,  0.0000,  0.0000,  0.0000],\n",
       "         [-0.6837, -0.5337,  0.5857,  ...,  0.0000,  0.0000,  0.0000],\n",
       "         [ 0.3222,  0.0227,  0.0607,  ...,  0.0000,  0.0000,  0.0000]],\n",
       "\n",
       "        [[ 0.5884,  0.7056,  0.6782,  ...,  0.0000,  0.0000,  0.0000],\n",
       "         [ 2.3345,  0.7896,  0.4728,  ...,  0.0000,  0.0000,  0.0000],\n",
       "         [ 2.7500,  1.0476,  0.9135,  ...,  0.0000,  0.0000,  0.0000],\n",
       "         ...,\n",
       "         [ 0.8550,  0.9253,  0.9883,  ...,  0.0000,  0.0000,  0.0000],\n",
       "         [-0.5438,  0.3525,  0.4144,  ...,  0.0000,  0.0000,  0.0000],\n",
       "         [ 0.2246,  0.6112,  0.5369,  ...,  0.0000,  0.0000,  0.0000]],\n",
       "\n",
       "        ...,\n",
       "\n",
       "        [[ 0.5781,  0.5586,  0.5825,  ...,  0.0000,  0.0000,  0.0000],\n",
       "         [ 1.4756,  0.2320, -0.8822,  ...,  0.0000,  0.0000,  0.0000],\n",
       "         [-1.1194,  3.0049, -0.9965,  ...,  0.0000,  0.0000,  0.0000],\n",
       "         ...,\n",
       "         [ 1.0000,  1.0000,  0.9961,  ...,  0.0000,  0.0000,  0.0000],\n",
       "         [ 0.2522, -0.5534,  0.3165,  ...,  0.0000,  0.0000,  0.0000],\n",
       "         [-0.5202,  0.0761, -0.4891,  ...,  0.0000,  0.0000,  0.0000]],\n",
       "\n",
       "        [[ 0.8975,  0.6040,  0.5303,  ...,  0.0000,  0.0000,  0.0000],\n",
       "         [-2.1270,  2.2476,  2.0854,  ...,  0.0000,  0.0000,  0.0000],\n",
       "         [ 1.5093,  2.4600, -1.1877,  ...,  0.0000,  0.0000,  0.0000],\n",
       "         ...,\n",
       "         [ 0.0000,  1.0000,  1.0000,  ...,  0.0000,  0.0000,  0.0000],\n",
       "         [ 0.0552, -0.4690,  0.1982,  ...,  0.0000,  0.0000,  0.0000],\n",
       "         [ 0.8958,  0.3806, -0.4918,  ...,  0.0000,  0.0000,  0.0000]],\n",
       "\n",
       "        [[ 0.7563,  0.5835,  0.9028,  ...,  0.0000,  0.0000,  0.0000],\n",
       "         [ 2.1382,  1.6292,  1.7839,  ...,  0.0000,  0.0000,  0.0000],\n",
       "         [ 1.7500,  1.9473,  2.6978,  ...,  0.0000,  0.0000,  0.0000],\n",
       "         ...,\n",
       "         [ 0.6118,  0.8433,  0.8979,  ...,  0.0000,  0.0000,  0.0000],\n",
       "         [-0.1348, -0.2145, -0.8154,  ...,  0.0000,  0.0000,  0.0000],\n",
       "         [ 0.7442,  0.5426,  0.3877,  ...,  0.0000,  0.0000,  0.0000]]])"
      ]
     },
     "execution_count": 18,
     "metadata": {},
     "output_type": "execute_result"
    }
   ],
   "source": [
    "dataset.features[torch.any(torch.abs(dataset.targets)>1e3, dim=-1)]"
   ]
  },
  {
   "cell_type": "code",
   "execution_count": 48,
   "id": "e4301f56",
   "metadata": {},
   "outputs": [
    {
     "data": {
      "text/plain": [
       "tensor([[ 1789097.1250, -1634775.5000]])"
      ]
     },
     "execution_count": 48,
     "metadata": {},
     "output_type": "execute_result"
    }
   ],
   "source": [
    "dataset.targets[torch.any(dataset.targets == torch.min(dataset.targets), dim=-1)]"
   ]
  },
  {
   "cell_type": "code",
   "execution_count": 24,
   "id": "0cc86750",
   "metadata": {},
   "outputs": [],
   "source": [
    "with open('/data/fudawei/GenMET/output/MET/b=512_lr=0.001_EMAmu=0.999/model/checkpoint_2050.pt', 'rb') as f:\n",
    "    loaded_obj = torch.load(f, map_location='cpu')"
   ]
  },
  {
   "cell_type": "code",
   "execution_count": 31,
   "id": "549d61f4",
   "metadata": {},
   "outputs": [
    {
     "data": {
      "text/plain": [
       "tensor([2.4802e+01, 9.8404e-01, 1.5062e+00, 4.2042e-03, 1.5117e+00,        nan,\n",
       "        1.3802e-01, 1.4600e+04, 3.2316e-01, 1.8926e+00, 2.2874e-01, 2.2944e-01,\n",
       "        1.3003e+01, 1.3087e+01])"
      ]
     },
     "execution_count": 31,
     "metadata": {},
     "output_type": "execute_result"
    }
   ],
   "source": [
    "loaded_obj['model']['embed.input_bn.running_var']"
   ]
  },
  {
   "cell_type": "code",
   "execution_count": null,
   "id": "268f3687",
   "metadata": {},
   "outputs": [],
   "source": [
    "for k, v in loaded_obj['model'].items():\n",
    "    print(k)\n",
    "    print(v)"
   ]
  },
  {
   "cell_type": "code",
   "execution_count": 3,
   "id": "7410c821",
   "metadata": {},
   "outputs": [],
   "source": [
    "dataloader = cycle(DataLoader(dataset=dataset, batch_size=1024, shuffle=True, drop_last=False))\n",
    "inputs, targets = next(dataloader)"
   ]
  },
  {
   "cell_type": "code",
   "execution_count": 5,
   "id": "bbdcc2b2",
   "metadata": {},
   "outputs": [
    {
     "data": {
      "text/plain": [
       "torch.Size([1024, 14, 256])"
      ]
     },
     "execution_count": 5,
     "metadata": {},
     "output_type": "execute_result"
    }
   ],
   "source": [
    "inputs.shape"
   ]
  },
  {
   "cell_type": "code",
   "execution_count": null,
   "id": "c1298de5",
   "metadata": {},
   "outputs": [],
   "source": [
    "model = ParticleTransformer(\n",
    "    input_dim=len(features),\n",
    "    output_dim=len(targets),  \n",
    "    # network configurations\n",
    "    pair_input_dim=4,\n",
    "    use_pre_activation_pair=False,\n",
    "    embed_dims=[128, 512, 128],\n",
    "    pair_embed_dims=[64, 64, 64],\n",
    "    num_heads=8,\n",
    "    num_layers=8,\n",
    "    num_cls_layers=2,\n",
    "    block_params=None,\n",
    "    cls_block_params={'dropout': 0, 'attn_dropout': 0, 'activation_dropout': 0},\n",
    "    fc_params=[],\n",
    "    activation='gelu',\n",
    "    # misc\n",
    "    trim=True,\n",
    "    for_inference=False,\n",
    ")"
   ]
  },
  {
   "cell_type": "code",
   "execution_count": 8,
   "id": "c03f7600",
   "metadata": {},
   "outputs": [
    {
     "name": "stderr",
     "output_type": "stream",
     "text": [
      "/home/fudawei/GenMET/models/particle_transformer.py:546: FutureWarning: `torch.cuda.amp.autocast(args...)` is deprecated. Please use `torch.amp.autocast('cuda', args...)` instead.\n",
      "  with torch.cuda.amp.autocast(enabled=self.use_amp):\n"
     ]
    }
   ],
   "source": [
    "outputs = model(inputs)"
   ]
  },
  {
   "cell_type": "code",
   "execution_count": 12,
   "id": "c25b11cb",
   "metadata": {},
   "outputs": [],
   "source": [
    "import torch"
   ]
  },
  {
   "cell_type": "code",
   "execution_count": null,
   "id": "475904f9",
   "metadata": {},
   "outputs": [],
   "source": []
  }
 ],
 "metadata": {
  "kernelspec": {
   "display_name": "base",
   "language": "python",
   "name": "python3"
  },
  "language_info": {
   "codemirror_mode": {
    "name": "ipython",
    "version": 3
   },
   "file_extension": ".py",
   "mimetype": "text/x-python",
   "name": "python",
   "nbconvert_exporter": "python",
   "pygments_lexer": "ipython3",
   "version": "3.11.8"
  }
 },
 "nbformat": 4,
 "nbformat_minor": 5
}

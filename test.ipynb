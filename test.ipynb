{
 "cells": [
  {
   "cell_type": "code",
   "execution_count": 1,
   "id": "942b2d73",
   "metadata": {},
   "outputs": [],
   "source": [
    "import awkward as ak\n",
    "import torch.nn.functional as F\n",
    "import numpy as np\n",
    "\n",
    "from torch.utils.data import DataLoader\n",
    "from glob import glob\n",
    "from coffea.nanoevents import NanoEventsFactory, NanoAODSchema\n",
    "from models.particle_transformer import ParticleTransformer\n",
    "from utils.data import Dataset, cycle, pad"
   ]
  },
  {
   "cell_type": "code",
   "execution_count": 3,
   "id": "4113ba44",
   "metadata": {},
   "outputs": [
    {
     "name": "stdout",
     "output_type": "stream",
     "text": [
      "Loaded 113535 datapoints from /ospool/cms-user/fudawei/DeepMETTraining/parquet/DYJetsToMuMu_H2ErratumFix_TuneCP5_13TeV-powhegMiNNLO-pythia8-photos/NanoV9MCPostVFP_10.parquet\n",
      "Loaded 68904 datapoints from /ospool/cms-user/fudawei/DeepMETTraining/parquet/DYJetsToMuMu_H2ErratumFix_TuneCP5_13TeV-powhegMiNNLO-pythia8-photos/NanoV9MCPostVFP_11.parquet\n",
      "Loaded 104922 datapoints from /ospool/cms-user/fudawei/DeepMETTraining/parquet/DYJetsToMuMu_H2ErratumFix_TuneCP5_13TeV-powhegMiNNLO-pythia8-photos/NanoV9MCPostVFP_12.parquet\n",
      "Loaded 97875 datapoints from /ospool/cms-user/fudawei/DeepMETTraining/parquet/DYJetsToMuMu_H2ErratumFix_TuneCP5_13TeV-powhegMiNNLO-pythia8-photos/NanoV9MCPostVFP_13.parquet\n",
      "Loaded 52461 datapoints from /ospool/cms-user/fudawei/DeepMETTraining/parquet/DYJetsToMuMu_H2ErratumFix_TuneCP5_13TeV-powhegMiNNLO-pythia8-photos/NanoV9MCPostVFP_14.parquet\n",
      "Loaded 109620 datapoints from /ospool/cms-user/fudawei/DeepMETTraining/parquet/DYJetsToMuMu_H2ErratumFix_TuneCP5_13TeV-powhegMiNNLO-pythia8-photos/NanoV9MCPostVFP_15.parquet\n",
      "Loaded 144855 datapoints from /ospool/cms-user/fudawei/DeepMETTraining/parquet/DYJetsToMuMu_H2ErratumFix_TuneCP5_13TeV-powhegMiNNLO-pythia8-photos/NanoV9MCPostVFP_16.parquet\n",
      "Loaded 103356 datapoints from /ospool/cms-user/fudawei/DeepMETTraining/parquet/DYJetsToMuMu_H2ErratumFix_TuneCP5_13TeV-powhegMiNNLO-pythia8-photos/NanoV9MCPostVFP_17.parquet\n",
      "Loaded 112752 datapoints from /ospool/cms-user/fudawei/DeepMETTraining/parquet/DYJetsToMuMu_H2ErratumFix_TuneCP5_13TeV-powhegMiNNLO-pythia8-photos/NanoV9MCPostVFP_18.parquet\n",
      "Loaded 55593 datapoints from /ospool/cms-user/fudawei/DeepMETTraining/parquet/DYJetsToMuMu_H2ErratumFix_TuneCP5_13TeV-powhegMiNNLO-pythia8-photos/NanoV9MCPostVFP_19.parquet\n",
      "Loaded 72036 datapoints from /ospool/cms-user/fudawei/DeepMETTraining/parquet/DYJetsToMuMu_H2ErratumFix_TuneCP5_13TeV-powhegMiNNLO-pythia8-photos/NanoV9MCPostVFP_1.parquet\n",
      "Loaded 97875 datapoints from /ospool/cms-user/fudawei/DeepMETTraining/parquet/DYJetsToMuMu_H2ErratumFix_TuneCP5_13TeV-powhegMiNNLO-pythia8-photos/NanoV9MCPostVFP_50.parquet\n",
      "Loaded 90828 datapoints from /ospool/cms-user/fudawei/DeepMETTraining/parquet/DYJetsToMuMu_H2ErratumFix_TuneCP5_13TeV-powhegMiNNLO-pythia8-photos/NanoV9MCPostVFP_51.parquet\n",
      "Loaded 38367 datapoints from /ospool/cms-user/fudawei/DeepMETTraining/parquet/DYJetsToMuMu_H2ErratumFix_TuneCP5_13TeV-powhegMiNNLO-pythia8-photos/NanoV9MCPostVFP_52.parquet\n",
      "Loaded 103356 datapoints from /ospool/cms-user/fudawei/DeepMETTraining/parquet/DYJetsToMuMu_H2ErratumFix_TuneCP5_13TeV-powhegMiNNLO-pythia8-photos/NanoV9MCPostVFP_53.parquet\n",
      "Loaded 101790 datapoints from /ospool/cms-user/fudawei/DeepMETTraining/parquet/DYJetsToMuMu_H2ErratumFix_TuneCP5_13TeV-powhegMiNNLO-pythia8-photos/NanoV9MCPostVFP_5.parquet\n",
      "Loaded 115884 datapoints from /ospool/cms-user/fudawei/DeepMETTraining/parquet/DYJetsToMuMu_H2ErratumFix_TuneCP5_13TeV-powhegMiNNLO-pythia8-photos/NanoV9MCPostVFP_6.parquet\n",
      "Loaded 101790 datapoints from /ospool/cms-user/fudawei/DeepMETTraining/parquet/DYJetsToMuMu_H2ErratumFix_TuneCP5_13TeV-powhegMiNNLO-pythia8-photos/NanoV9MCPostVFP_7.parquet\n",
      "Loaded 44631 datapoints from /ospool/cms-user/fudawei/DeepMETTraining/parquet/DYJetsToMuMu_H2ErratumFix_TuneCP5_13TeV-powhegMiNNLO-pythia8-photos/NanoV9MCPostVFP_8.parquet\n",
      "Loaded 100224 datapoints from /ospool/cms-user/fudawei/DeepMETTraining/parquet/DYJetsToMuMu_H2ErratumFix_TuneCP5_13TeV-powhegMiNNLO-pythia8-photos/NanoV9MCPostVFP_9.parquet\n"
     ]
    }
   ],
   "source": [
    "features = ['PF_pt', 'PF_eta', 'PF_phi', 'PF_mass', 'PF_d0', 'PF_dz', 'PF_hcalFraction', 'PF_pdgId', 'PF_charge', 'PF_fromPV', 'PF_puppiWeightNoLep', 'PF_puppiWeight', 'PF_px', 'PF_py']\n",
    "targets = ['truth_px', 'truth_py']\n",
    "\n",
    "dataset = Dataset(\n",
    "    glob('/ospool/cms-user/fudawei/DeepMETTraining/parquet/DYJetsToMuMu_H2ErratumFix_TuneCP5_13TeV-powhegMiNNLO-pythia8-photos/*.parquet'),\n",
    "    features=features, targets=targets, start_ratio=0.0, end_ratio=0.001,\n",
    ")"
   ]
  },
  {
   "cell_type": "code",
   "execution_count": null,
   "id": "7410c821",
   "metadata": {},
   "outputs": [],
   "source": [
    "dataloader = cycle(DataLoader(dataset=dataset, batch_size=256, shuffle=True, drop_last=True))\n",
    "inputs, targets = next(dataloader)"
   ]
  },
  {
   "cell_type": "code",
   "execution_count": null,
   "id": "c1298de5",
   "metadata": {},
   "outputs": [],
   "source": [
    "model = ParticleTransformer(\n",
    "    input_dim=len(features),\n",
    "    output_dim=len(targets),  \n",
    "    # network configurations\n",
    "    pair_input_dim=4,\n",
    "    use_pre_activation_pair=False,\n",
    "    embed_dims=[128, 512, 128],\n",
    "    pair_embed_dims=[64, 64, 64],\n",
    "    num_heads=8,\n",
    "    num_layers=8,\n",
    "    num_cls_layers=2,\n",
    "    block_params=None,\n",
    "    cls_block_params={'dropout': 0, 'attn_dropout': 0, 'activation_dropout': 0},\n",
    "    fc_params=[],\n",
    "    activation='gelu',\n",
    "    # misc\n",
    "    trim=True,\n",
    "    for_inference=False,\n",
    ")"
   ]
  },
  {
   "cell_type": "code",
   "execution_count": 8,
   "id": "c03f7600",
   "metadata": {},
   "outputs": [
    {
     "name": "stderr",
     "output_type": "stream",
     "text": [
      "/home/fudawei/GenMET/models/particle_transformer.py:546: FutureWarning: `torch.cuda.amp.autocast(args...)` is deprecated. Please use `torch.amp.autocast('cuda', args...)` instead.\n",
      "  with torch.cuda.amp.autocast(enabled=self.use_amp):\n"
     ]
    }
   ],
   "source": [
    "outputs = model(inputs)"
   ]
  },
  {
   "cell_type": "code",
   "execution_count": 12,
   "id": "c25b11cb",
   "metadata": {},
   "outputs": [],
   "source": [
    "import torch"
   ]
  },
  {
   "cell_type": "code",
   "execution_count": null,
   "id": "475904f9",
   "metadata": {},
   "outputs": [],
   "source": []
  }
 ],
 "metadata": {
  "kernelspec": {
   "display_name": "base",
   "language": "python",
   "name": "python3"
  },
  "language_info": {
   "codemirror_mode": {
    "name": "ipython",
    "version": 3
   },
   "file_extension": ".py",
   "mimetype": "text/x-python",
   "name": "python",
   "nbconvert_exporter": "python",
   "pygments_lexer": "ipython3",
   "version": "3.9.13"
  }
 },
 "nbformat": 4,
 "nbformat_minor": 5
}

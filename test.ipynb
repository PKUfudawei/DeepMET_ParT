{
 "cells": [
  {
   "cell_type": "code",
   "execution_count": 1,
   "id": "942b2d73",
   "metadata": {},
   "outputs": [],
   "source": [
    "import awkward as ak\n",
    "import torch.nn.functional as F\n",
    "import numpy as np\n",
    "import pandas as pd\n",
    "import torch, h5py\n",
    "\n",
    "from torch.utils.data import DataLoader\n",
    "from glob import glob\n",
    "#from coffea.nanoevents import NanoEventsFactory, NanoAODSchema\n",
    "from models.particle_transformer import ParticleTransformer\n",
    "from utils.data import Dataset, cycle\n",
    "from tqdm import tqdm"
   ]
  },
  {
   "cell_type": "code",
   "execution_count": 11,
   "id": "0125c559",
   "metadata": {},
   "outputs": [],
   "source": [
    "with h5py.File('data/train/DYJetsToMuMu_H2ErratumFix_TuneCP5_13TeV-powhegMiNNLO-pythia8-photos/NanoV9MCPostVFP_16.hdf5', 'r') as file:\n",
    "    X = file['PF_features'][:]"
   ]
  },
  {
   "cell_type": "code",
   "execution_count": null,
   "id": "3d09789b",
   "metadata": {},
   "outputs": [
    {
     "data": {
      "text/plain": [
       "(144855, 4500)"
      ]
     },
     "execution_count": 26,
     "metadata": {},
     "output_type": "execute_result"
    }
   ],
   "source": [
    "\n",
    "cut_X.shape"
   ]
  },
  {
   "cell_type": "code",
   "execution_count": null,
   "id": "8425813e",
   "metadata": {},
   "outputs": [
    {
     "data": {
      "text/plain": [
       "(144855, 4500)"
      ]
     },
     "execution_count": 36,
     "metadata": {},
     "output_type": "execute_result"
    }
   ],
   "source": [
    "cut_X = X[:, 5, :]\n",
    "cut_X.shape"
   ]
  },
  {
   "cell_type": "code",
   "execution_count": 38,
   "id": "4e0abcae",
   "metadata": {},
   "outputs": [
    {
     "name": "stdout",
     "output_type": "stream",
     "text": [
      "[19814 28917]\n",
      "[ 511 1081]\n"
     ]
    }
   ],
   "source": [
    "for idx in np.nonzero(np.isinf(cut_X)):\n",
    "    print(idx)"
   ]
  },
  {
   "cell_type": "code",
   "execution_count": 41,
   "id": "b45e048e",
   "metadata": {},
   "outputs": [
    {
     "data": {
      "text/plain": [
       "array([[0.        , 0.        , 0.        , 0.        ],\n",
       "       [0.        , 0.        , 0.        , 0.60546875],\n",
       "       [1.88085938, 0.        ,        inf, 0.        ],\n",
       "       [8.1953125 , 0.        , 0.        , 0.        ]])"
      ]
     },
     "execution_count": 41,
     "metadata": {},
     "output_type": "execute_result"
    }
   ],
   "source": [
    "cut_X[19814-2:19814+2, 511-2:511+2]"
   ]
  },
  {
   "cell_type": "code",
   "execution_count": 10,
   "id": "587201c0",
   "metadata": {},
   "outputs": [
    {
     "name": "stdout",
     "output_type": "stream",
     "text": [
      "data/train/DYJetsToMuMu_H2ErratumFix_TuneCP5_13TeV-powhegMiNNLO-pythia8-photos/NanoV9MCPostVFP_16.hdf5\n",
      "[[-1.89971924e-03  0.00000000e+00 -5.00000000e+00 ...  0.00000000e+00\n",
      "   0.00000000e+00  0.00000000e+00]\n",
      " [-2.30789185e-03 -2.32124329e-03  1.03607178e-02 ...  0.00000000e+00\n",
      "   0.00000000e+00  0.00000000e+00]\n",
      " [-1.90887451e-02 -5.09262085e-03  5.98907471e-04 ...  0.00000000e+00\n",
      "   0.00000000e+00  0.00000000e+00]\n",
      " ...\n",
      " [ 0.00000000e+00  0.00000000e+00  8.04901123e-04 ...  0.00000000e+00\n",
      "   0.00000000e+00  0.00000000e+00]\n",
      " [-9.54627991e-04  0.00000000e+00  0.00000000e+00 ...  0.00000000e+00\n",
      "   0.00000000e+00  0.00000000e+00]\n",
      " [ 0.00000000e+00  0.00000000e+00  0.00000000e+00 ...  0.00000000e+00\n",
      "   0.00000000e+00  0.00000000e+00]]\n"
     ]
    },
    {
     "ename": "KeyboardInterrupt",
     "evalue": "",
     "output_type": "error",
     "traceback": [
      "\u001b[31m---------------------------------------------------------------------------\u001b[39m",
      "\u001b[31mKeyboardInterrupt\u001b[39m                         Traceback (most recent call last)",
      "\u001b[36mCell\u001b[39m\u001b[36m \u001b[39m\u001b[32mIn[10]\u001b[39m\u001b[32m, line 4\u001b[39m\n\u001b[32m      2\u001b[39m \u001b[38;5;28;01mfor\u001b[39;00m f \u001b[38;5;129;01min\u001b[39;00m train_files:\n\u001b[32m      3\u001b[39m     \u001b[38;5;28;01mwith\u001b[39;00m h5py.File(f, \u001b[33m'\u001b[39m\u001b[33mr\u001b[39m\u001b[33m'\u001b[39m) \u001b[38;5;28;01mas\u001b[39;00m file:\n\u001b[32m----> \u001b[39m\u001b[32m4\u001b[39m         X = \u001b[43mfile\u001b[49m\u001b[43m[\u001b[49m\u001b[33;43m'\u001b[39;49m\u001b[33;43mPF_features\u001b[39;49m\u001b[33;43m'\u001b[39;49m\u001b[43m]\u001b[49m\u001b[43m[\u001b[49m\u001b[43m:\u001b[49m\u001b[43m,\u001b[49m\u001b[43m \u001b[49m\u001b[32;43m5\u001b[39;49m\u001b[43m,\u001b[49m\u001b[43m \u001b[49m\u001b[43m:\u001b[49m\u001b[43m]\u001b[49m\n\u001b[32m      5\u001b[39m         \u001b[38;5;28;01mif\u001b[39;00m \u001b[38;5;129;01mnot\u001b[39;00m np.isfinite(X).all():\n\u001b[32m      6\u001b[39m             \u001b[38;5;28mprint\u001b[39m(f)\n",
      "\u001b[36mFile \u001b[39m\u001b[32mh5py/_objects.pyx:56\u001b[39m, in \u001b[36mh5py._objects.with_phil.wrapper\u001b[39m\u001b[34m()\u001b[39m\n",
      "\u001b[36mFile \u001b[39m\u001b[32mh5py/_objects.pyx:57\u001b[39m, in \u001b[36mh5py._objects.with_phil.wrapper\u001b[39m\u001b[34m()\u001b[39m\n",
      "\u001b[36mFile \u001b[39m\u001b[32m/data/fudawei/miniconda3/lib/python3.13/site-packages/h5py/_hl/dataset.py:820\u001b[39m, in \u001b[36mDataset.__getitem__\u001b[39m\u001b[34m(self, args, new_dtype)\u001b[39m\n\u001b[32m    818\u001b[39m \u001b[38;5;28;01mif\u001b[39;00m \u001b[38;5;28mself\u001b[39m._fast_read_ok \u001b[38;5;129;01mand\u001b[39;00m (new_dtype \u001b[38;5;129;01mis\u001b[39;00m \u001b[38;5;28;01mNone\u001b[39;00m):\n\u001b[32m    819\u001b[39m     \u001b[38;5;28;01mtry\u001b[39;00m:\n\u001b[32m--> \u001b[39m\u001b[32m820\u001b[39m         \u001b[38;5;28;01mreturn\u001b[39;00m \u001b[38;5;28;43mself\u001b[39;49m\u001b[43m.\u001b[49m\u001b[43m_fast_reader\u001b[49m\u001b[43m.\u001b[49m\u001b[43mread\u001b[49m\u001b[43m(\u001b[49m\u001b[43margs\u001b[49m\u001b[43m)\u001b[49m\n\u001b[32m    821\u001b[39m     \u001b[38;5;28;01mexcept\u001b[39;00m \u001b[38;5;167;01mTypeError\u001b[39;00m:\n\u001b[32m    822\u001b[39m         \u001b[38;5;28;01mpass\u001b[39;00m  \u001b[38;5;66;03m# Fall back to Python read pathway below\u001b[39;00m\n",
      "\u001b[31mKeyboardInterrupt\u001b[39m: "
     ]
    }
   ],
   "source": [
    "train_files = glob('data/train/DYJetsToMuMu_H2ErratumFix_TuneCP5_13TeV-powhegMiNNLO-pythia8-photos/*.hdf5')\n",
    "for f in train_files:\n",
    "    with h5py.File(f, 'r') as file:\n",
    "        X = file['PF_features'][:, 5, :]\n",
    "        if not np.isfinite(X).all():\n",
    "            print(f)\n",
    "            print(X)"
   ]
  },
  {
   "cell_type": "code",
   "execution_count": 2,
   "id": "59b9a36a",
   "metadata": {},
   "outputs": [
    {
     "name": "stdout",
     "output_type": "stream",
     "text": [
      "=> Lazy loading 1619244 events from 18 files\n"
     ]
    },
    {
     "name": "stderr",
     "output_type": "stream",
     "text": [
      "Epoch 0:   5%|▍         | 285/6325 [22:43<5:44:02,  3.42s/it]"
     ]
    },
    {
     "name": "stdout",
     "output_type": "stream",
     "text": [
      "286 tensor(False, device='cuda:0')\n",
      "tensor([[[ 4.8656e+01,  8.6875e+00,  7.7422e+00,  ...,  9.0759e-02,\n",
      "           9.0454e-02,  8.9905e-02],\n",
      "         [-2.2290e+00, -2.4170e-01,  1.4463e+00,  ..., -4.6729e+00,\n",
      "          -3.9458e+00,  4.2812e+00],\n",
      "         [-3.5645e-02, -1.9509e+00,  9.8251e-02,  ...,  9.5886e-01,\n",
      "           1.3101e+00, -1.8340e+00],\n",
      "         ...,\n",
      "         [ 1.0000e+00,  0.0000e+00,  0.0000e+00,  ...,  0.0000e+00,\n",
      "           0.0000e+00,  0.0000e+00],\n",
      "         [ 4.8625e+01, -3.2234e+00,  7.7048e+00,  ...,  5.2137e-02,\n",
      "           2.3318e-02, -2.3390e-02],\n",
      "         [-1.7340e+00, -8.0674e+00,  7.5946e-01,  ...,  7.4290e-02,\n",
      "           8.7397e-02, -8.6809e-02]],\n",
      "\n",
      "        [[ 4.5844e+01,  4.1250e+01,  5.4414e+00,  ...,  1.3000e-01,\n",
      "           1.2976e-01,  1.2854e-01],\n",
      "         [-1.6799e+00, -1.5198e+00,  2.3740e+00,  ..., -4.8096e+00,\n",
      "           3.9346e+00, -5.0479e+00],\n",
      "         [-1.5925e+00,  1.6663e+00, -2.9985e+00,  ..., -2.7861e+00,\n",
      "          -1.1379e+00, -3.1304e+00],\n",
      "         ...,\n",
      "         [ 1.0000e+00,  1.0000e+00,  0.0000e+00,  ...,  0.0000e+00,\n",
      "           0.0000e+00,  0.0000e+00],\n",
      "         [-9.9624e-01, -3.9319e+00, -5.3858e+00,  ..., -1.2188e-01,\n",
      "           5.4430e-02, -1.2853e-01],\n",
      "         [-4.5833e+01,  4.1062e+01, -7.7578e-01,  ..., -4.5244e-02,\n",
      "          -1.1779e-01, -1.4424e-03]],\n",
      "\n",
      "        [[ 3.6312e+01,  3.1828e+01,  9.1484e+00,  ...,  1.5564e-01,\n",
      "           1.5320e-01,  1.5308e-01],\n",
      "         [ 1.9856e+00, -2.2852e-01,  7.4048e-01,  ..., -3.7661e+00,\n",
      "          -4.4971e+00,  4.4785e+00],\n",
      "         [-2.9585e+00,  2.9512e+00,  3.4170e-03,  ..., -1.4856e+00,\n",
      "           6.0767e-01, -7.9236e-01],\n",
      "         ...,\n",
      "         [ 1.0000e+00,  1.0000e+00,  1.0000e+00,  ...,  0.0000e+00,\n",
      "           0.0000e+00,  0.0000e+00],\n",
      "         [-3.5706e+01, -3.1253e+01,  9.1484e+00,  ...,  1.3245e-02,\n",
      "           1.2577e-01,  1.0749e-01],\n",
      "         [-6.6116e+00,  6.0242e+00,  3.1260e-02,  ..., -1.5508e-01,\n",
      "           8.7469e-02, -1.0899e-01]],\n",
      "\n",
      "        ...,\n",
      "\n",
      "        [[ 2.8094e+01,  2.4250e+01,  1.1258e+01,  ...,  6.7017e-02,\n",
      "           6.5796e-02,  6.5125e-02],\n",
      "         [ 3.3875e-01,  2.5525e-01,  1.5791e+00,  ..., -3.7593e+00,\n",
      "           3.9453e+00, -4.1113e+00],\n",
      "         [-7.4280e-01,  2.4946e+00, -1.7278e+00,  ..., -1.3115e+00,\n",
      "           1.6604e+00, -6.1609e-01],\n",
      "         ...,\n",
      "         [ 1.0000e+00,  1.0000e+00,  0.0000e+00,  ...,  0.0000e+00,\n",
      "           0.0000e+00,  0.0000e+00],\n",
      "         [ 2.0693e+01, -1.9350e+01, -1.7601e+00,  ...,  1.7182e-02,\n",
      "          -5.8877e-03,  5.3151e-02],\n",
      "         [-1.9001e+01,  1.4617e+01, -1.1119e+01,  ..., -6.4777e-02,\n",
      "           6.5532e-02, -3.7632e-02]],\n",
      "\n",
      "        [[ 5.1062e+01,  4.6312e+01,  2.4297e+01,  ...,  0.0000e+00,\n",
      "           0.0000e+00,  0.0000e+00],\n",
      "         [ 8.1433e-01,  9.2200e-01, -5.4565e-02,  ...,  0.0000e+00,\n",
      "           0.0000e+00,  0.0000e+00],\n",
      "         [ 1.2932e+00, -1.2632e+00, -2.9556e+00,  ...,  0.0000e+00,\n",
      "           0.0000e+00,  0.0000e+00],\n",
      "         ...,\n",
      "         [ 1.0000e+00,  1.0000e+00,  1.0000e+00,  ...,  0.0000e+00,\n",
      "           0.0000e+00,  0.0000e+00],\n",
      "         [ 1.3993e+01,  1.4023e+01, -2.3878e+01,  ...,  0.0000e+00,\n",
      "           0.0000e+00,  0.0000e+00],\n",
      "         [ 4.9108e+01, -4.4139e+01, -4.4938e+00,  ...,  0.0000e+00,\n",
      "           0.0000e+00,  0.0000e+00]],\n",
      "\n",
      "        [[ 3.6531e+01,  3.4344e+01,  5.0859e+00,  ...,  0.0000e+00,\n",
      "           0.0000e+00,  0.0000e+00],\n",
      "         [ 2.0420e+00,  5.0854e-01, -2.2329e+00,  ...,  0.0000e+00,\n",
      "           0.0000e+00,  0.0000e+00],\n",
      "         [-1.4128e+00,  1.4636e+00,  2.1333e+00,  ...,  0.0000e+00,\n",
      "           0.0000e+00,  0.0000e+00],\n",
      "         ...,\n",
      "         [ 1.0000e+00,  1.0000e+00,  0.0000e+00,  ...,  0.0000e+00,\n",
      "           0.0000e+00,  0.0000e+00],\n",
      "         [ 5.7463e+00,  3.6737e+00, -2.7124e+00,  ...,  0.0000e+00,\n",
      "           0.0000e+00,  0.0000e+00],\n",
      "         [-3.6076e+01,  3.4147e+01,  4.3023e+00,  ...,  0.0000e+00,\n",
      "           0.0000e+00,  0.0000e+00]]], device='cuda:0')\n"
     ]
    },
    {
     "name": "stderr",
     "output_type": "stream",
     "text": [
      "Epoch 0:   5%|▍         | 286/6325 [23:18<8:12:13,  4.89s/it]\n"
     ]
    }
   ],
   "source": [
    "train_files = glob('data/train/DYJetsToMuMu_H2ErratumFix_TuneCP5_13TeV-powhegMiNNLO-pythia8-photos/*.hdf5')\n",
    "dataset_train = Dataset(files=train_files, max_PF_num=1024)\n",
    "dataloader_train = DataLoader(\n",
    "    dataset=dataset_train, batch_size=256, sampler=None, \n",
    "    num_workers=8, pin_memory=True, drop_last=True, shuffle=True,\n",
    ")\n",
    "train_loader = tqdm(dataloader_train, desc=f\"Epoch 0\")\n",
    "for index, (X, Y) in enumerate(train_loader):\n",
    "    X, Y = X.to('cuda'), Y.to('cuda')\n",
    "    if not torch.isfinite(X).all():\n",
    "        print(index, torch.isfinite(X).all())\n",
    "        print(X)\n",
    "        break"
   ]
  },
  {
   "cell_type": "code",
   "execution_count": null,
   "id": "99872606",
   "metadata": {},
   "outputs": [],
   "source": [
    "def _check_finite(t, name):\n",
    "    if not torch.isfinite(t).all():\n",
    "        raise RuntimeError(f\"[Non-finite detected] {name} contains NaN/Inf\")\n",
    "\n",
    "\n",
    "def quick_data_sanity(loader, device, n_batches=100):\n",
    "    cnt = 0\n",
    "    for X, Y in loader:\n",
    "        X, Y = X.to(device), Y.to(device)\n",
    "        if not (torch.isfinite(X).all() and torch.isfinite(Y).all()):\n",
    "            raise RuntimeError(\"Dataset contains NaN/Inf in X or Y\")\n",
    "            return X, Y\n"
   ]
  },
  {
   "cell_type": "code",
   "execution_count": null,
   "id": "1c33ca1d",
   "metadata": {},
   "outputs": [],
   "source": [
    "for f in glob('/data/fudawei/GenMET/data/test/*/*.hdf5'):\n",
    "    with h5py.File(f, 'r') as file:\n",
    "        arr = file['event_truths'][:]\n",
    "        print(f, np.max(arr), np.min(arr))\n",
    "    "
   ]
  },
  {
   "cell_type": "code",
   "execution_count": null,
   "id": "4113ba44",
   "metadata": {},
   "outputs": [],
   "source": [
    "dataset = Dataset(glob('/data/fudawei/GenMET/data/train/TTTo2L2Nu_TuneCP5_13TeV-powheg-pythia8/*'), max_PF_num=1000)\n",
    "dataloader = DataLoader(dataset=dataset, batch_size=128, shuffle=True, drop_last=False)\n"
   ]
  },
  {
   "cell_type": "code",
   "execution_count": null,
   "id": "875e2a4e",
   "metadata": {},
   "outputs": [],
   "source": [
    "lazy_files=[h5py.File(f, 'r') for f in glob('/data/fudawei/GenMET/data/train/TTTo2L2Nu_TuneCP5_13TeV-powheg-pythia8/*')]\n",
    "lazy_files[0].attrs['n_events']"
   ]
  },
  {
   "cell_type": "code",
   "execution_count": null,
   "id": "9e3d7a82",
   "metadata": {},
   "outputs": [],
   "source": [
    "import matplotlib.pyplot as plt"
   ]
  },
  {
   "cell_type": "code",
   "execution_count": null,
   "id": "6bba5b12",
   "metadata": {},
   "outputs": [],
   "source": [
    "plt.hist(torch.abs(dataset.targets[torch.any(torch.abs(dataset.targets)>1e3, dim=-1)]).flatten(), range=(1e3, 1e4))"
   ]
  },
  {
   "cell_type": "code",
   "execution_count": null,
   "id": "b05f7c8c",
   "metadata": {},
   "outputs": [],
   "source": [
    "dataset.features[torch.any(torch.abs(dataset.targets)>1e3, dim=-1)]"
   ]
  },
  {
   "cell_type": "code",
   "execution_count": null,
   "id": "e4301f56",
   "metadata": {},
   "outputs": [],
   "source": [
    "dataset.targets[torch.any(dataset.targets == torch.min(dataset.targets), dim=-1)]"
   ]
  },
  {
   "cell_type": "code",
   "execution_count": null,
   "id": "0cc86750",
   "metadata": {},
   "outputs": [],
   "source": [
    "with open('/data/fudawei/GenMET/output/MET/b=512_lr=0.001_EMAmu=0.999/model/checkpoint_2050.pt', 'rb') as f:\n",
    "    loaded_obj = torch.load(f, map_location='cpu')"
   ]
  },
  {
   "cell_type": "code",
   "execution_count": null,
   "id": "549d61f4",
   "metadata": {},
   "outputs": [],
   "source": [
    "loaded_obj['model']['embed.input_bn.running_var']"
   ]
  },
  {
   "cell_type": "code",
   "execution_count": null,
   "id": "268f3687",
   "metadata": {},
   "outputs": [],
   "source": [
    "for k, v in loaded_obj['model'].items():\n",
    "    print(k)\n",
    "    print(v)"
   ]
  },
  {
   "cell_type": "code",
   "execution_count": null,
   "id": "7410c821",
   "metadata": {},
   "outputs": [],
   "source": [
    "dataloader = cycle(DataLoader(dataset=dataset, batch_size=1024, shuffle=True, drop_last=False))\n",
    "inputs, targets = next(dataloader)"
   ]
  },
  {
   "cell_type": "code",
   "execution_count": null,
   "id": "bbdcc2b2",
   "metadata": {},
   "outputs": [],
   "source": [
    "inputs.shape"
   ]
  },
  {
   "cell_type": "code",
   "execution_count": null,
   "id": "c1298de5",
   "metadata": {},
   "outputs": [],
   "source": [
    "model = ParticleTransformer(\n",
    "    input_dim=len(features),\n",
    "    output_dim=len(targets),  \n",
    "    # network configurations\n",
    "    pair_input_dim=4,\n",
    "    use_pre_activation_pair=False,\n",
    "    embed_dims=[128, 512, 128],\n",
    "    pair_embed_dims=[64, 64, 64],\n",
    "    num_heads=8,\n",
    "    num_layers=8,\n",
    "    num_cls_layers=2,\n",
    "    block_params=None,\n",
    "    cls_block_params={'dropout': 0, 'attn_dropout': 0, 'activation_dropout': 0},\n",
    "    fc_params=[],\n",
    "    activation='gelu',\n",
    "    # misc\n",
    "    trim=True,\n",
    "    for_inference=False,\n",
    ")"
   ]
  },
  {
   "cell_type": "code",
   "execution_count": null,
   "id": "c03f7600",
   "metadata": {},
   "outputs": [],
   "source": [
    "outputs = model(inputs)"
   ]
  },
  {
   "cell_type": "code",
   "execution_count": null,
   "id": "c25b11cb",
   "metadata": {},
   "outputs": [],
   "source": [
    "import torch"
   ]
  },
  {
   "cell_type": "code",
   "execution_count": null,
   "id": "475904f9",
   "metadata": {},
   "outputs": [],
   "source": []
  }
 ],
 "metadata": {
  "kernelspec": {
   "display_name": "base",
   "language": "python",
   "name": "python3"
  },
  "language_info": {
   "codemirror_mode": {
    "name": "ipython",
    "version": 3
   },
   "file_extension": ".py",
   "mimetype": "text/x-python",
   "name": "python",
   "nbconvert_exporter": "python",
   "pygments_lexer": "ipython3",
   "version": "3.13.5"
  }
 },
 "nbformat": 4,
 "nbformat_minor": 5
}

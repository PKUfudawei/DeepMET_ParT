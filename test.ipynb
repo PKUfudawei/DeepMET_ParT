{
 "cells": [
  {
   "cell_type": "code",
   "execution_count": 2,
   "id": "942b2d73",
   "metadata": {},
   "outputs": [],
   "source": [
    "import awkward as ak\n",
    "from coffea.nanoevents import NanoEventsFactory, NanoAODSchema\n",
    "from models.particle_transformer import ParticleTransformer"
   ]
  },
  {
   "cell_type": "code",
   "execution_count": 14,
   "id": "2043a6ab",
   "metadata": {},
   "outputs": [
    {
     "name": "stderr",
     "output_type": "stream",
     "text": [
      "/home/fudawei/anaconda3/lib/python3.9/site-packages/coffea/nanoevents/schemas/nanoaod.py:264: RuntimeWarning: Missing cross-reference index for LowPtElectron_electronIdx => Electron\n",
      "  warnings.warn(\n",
      "/home/fudawei/anaconda3/lib/python3.9/site-packages/coffea/nanoevents/schemas/nanoaod.py:264: RuntimeWarning: Missing cross-reference index for LowPtElectron_photonIdx => Photon\n",
      "  warnings.warn(\n"
     ]
    }
   ],
   "source": [
    "events = NanoEventsFactory.from_root(\n",
    "    {'/ospool/cms-user/fudawei/DeepMETTraining/DYJetsToMuMu_H2ErratumFix_TuneCP5_13TeV-powhegMiNNLO-pythia8-photos/NanoV9MCPostVFP_1/231011_213152/0000/NanoV9MCPostVFP_10.root': 'Events'}, schemaclass=NanoAODSchema, mode=\"eager\"\n",
    ").events()"
   ]
  },
  {
   "cell_type": "code",
   "execution_count": 4,
   "id": "4bcbc38f",
   "metadata": {},
   "outputs": [],
   "source": [
    "model = ParticleTransformer(\n",
    "    input_dim=14,\n",
    "    output_dim=2,  \n",
    "    # network configurations\n",
    "    pair_input_dim=4,\n",
    "    use_pre_activation_pair=False,\n",
    "    embed_dims=[128, 512, 128],\n",
    "    pair_embed_dims=[64, 64, 64],\n",
    "    num_heads=8,\n",
    "    num_layers=8,\n",
    "    num_cls_layers=2,\n",
    "    block_params=None,\n",
    "    cls_block_params={'dropout': 0, 'attn_dropout': 0, 'activation_dropout': 0},\n",
    "    fc_params=[],\n",
    "    activation='gelu',\n",
    "    # misc\n",
    "    trim=True,\n",
    "    for_inference=False,\n",
    ")"
   ]
  },
  {
   "cell_type": "code",
   "execution_count": null,
   "id": "a6fd72df",
   "metadata": {},
   "outputs": [],
   "source": []
  }
 ],
 "metadata": {
  "kernelspec": {
   "display_name": "base",
   "language": "python",
   "name": "python3"
  },
  "language_info": {
   "codemirror_mode": {
    "name": "ipython",
    "version": 3
   },
   "file_extension": ".py",
   "mimetype": "text/x-python",
   "name": "python",
   "nbconvert_exporter": "python",
   "pygments_lexer": "ipython3",
   "version": "3.9.13"
  }
 },
 "nbformat": 4,
 "nbformat_minor": 5
}
